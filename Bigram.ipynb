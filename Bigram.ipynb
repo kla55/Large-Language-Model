{
 "cells": [
  {
   "cell_type": "code",
   "execution_count": 30,
   "id": "70260769-6365-49d8-991c-7dd6da6b2e10",
   "metadata": {},
   "outputs": [
    {
     "name": "stdout",
     "output_type": "stream",
     "text": [
      "cuda\n"
     ]
    }
   ],
   "source": [
    "import torch\n",
    "import torch.nn as nn\n",
    "from torch.nn import functional as F\n",
    "device = 'cuda' if torch.cuda.is_available() else 'cpu'\n",
    "print(device)\n",
    "block_size = 8\n",
    "batch_size = 4\n",
    "max_iters = 1000\n",
    "# eval_interval = 2500\n",
    "learning_rate = 3e-4\n",
    "eval_iters = 250"
   ]
  },
  {
   "cell_type": "code",
   "execution_count": 31,
   "id": "b715944b",
   "metadata": {},
   "outputs": [
    {
     "name": "stdout",
     "output_type": "stream",
     "text": [
      "The Wonderful Wizard of Oz\n",
      "\n",
      "by L. Frank Baum\n",
      "\n",
      "\n",
      "This book is dedicated to my good friend & comrade\n",
      "My Wife\n",
      "L.F.B.\n",
      "\n",
      "\n",
      "Contents\n",
      "\n",
      " Introduction\n",
      " Chapter I. The Cyclone\n",
      " Chapter II. The Council with the Mun\n",
      "['\\n', ' ', '!', '&', '(', ')', ',', '-', '.', '0', '1', '9', ':', ';', '?', 'A', 'B', 'C', 'D', 'E', 'F', 'G', 'H', 'I', 'J', 'K', 'L', 'M', 'N', 'O', 'P', 'Q', 'R', 'S', 'T', 'U', 'V', 'W', 'X', 'Y', 'Z', 'a', 'b', 'c', 'd', 'e', 'f', 'g', 'h', 'i', 'j', 'k', 'l', 'm', 'n', 'o', 'p', 'q', 'r', 's', 't', 'u', 'v', 'w', 'x', 'y', 'z', '—', '‘', '’', '“', '”']\n"
     ]
    }
   ],
   "source": [
    "with open('wizard_of_oz.txt', 'r', encoding='utf-8') as f:\n",
    "    text = f.read()\n",
    "print(text[:200])\n",
    "chars = sorted(set(text))\n",
    "print(chars)\n",
    "vocab_size = len(chars)"
   ]
  },
  {
   "cell_type": "code",
   "execution_count": 32,
   "id": "e5a3d68c-e94c-4c19-9515-c76bd11b6298",
   "metadata": {},
   "outputs": [
    {
     "name": "stdout",
     "output_type": "stream",
     "text": [
      "[48, 45, 52, 52, 55]\n",
      "hello\n"
     ]
    }
   ],
   "source": [
    "#Tokenizer\n",
    "\n",
    "#encoder - transforms an array into an integer\n",
    "#decoder - transforsm the integer into an array\n",
    "\n",
    "# If we work with a word level tokenizer then we have a ton of words and that's a lot of tokens\n",
    "# But in this case we will have a smaller set to encode and decode\n",
    "# if we have a subwork\n",
    "\n",
    "string_to_int = { ch:i for i, ch in enumerate(chars)}\n",
    "int_to_string = { i:ch for i, ch in enumerate(chars)}\n",
    "encoder = lambda s:[string_to_int[c] for c in s]\n",
    "decoder = lambda l: ''.join([int_to_string[i] for i in l])\n",
    "\n",
    "print(encoder('hello'))\n",
    "print(decoder(encoder('hello')))"
   ]
  },
  {
   "cell_type": "code",
   "execution_count": 33,
   "id": "80e44b33-e12f-4e79-b63e-69c890a20b49",
   "metadata": {},
   "outputs": [
    {
     "name": "stdout",
     "output_type": "stream",
     "text": [
      "tensor([34, 48, 45,  1, 37, 55, 54, 44, 45, 58, 46, 61, 52,  1, 37, 49, 66, 41,\n",
      "        58, 44,  1, 55, 46,  1, 29, 66,  0,  0, 42, 65,  1, 26,  8,  1, 20, 58,\n",
      "        41, 54, 51,  1, 16, 41, 61, 53,  0,  0,  0, 34, 48, 49, 59,  1, 42, 55,\n",
      "        55, 51,  1, 49, 59,  1, 44, 45, 44, 49, 43, 41, 60, 45, 44,  1, 60, 55,\n",
      "         1, 53, 65,  1, 47, 55, 55, 44,  1, 46, 58, 49, 45, 54, 44,  1,  3,  1,\n",
      "        43, 55, 53, 58, 41, 44, 45,  0, 27, 65])\n"
     ]
    }
   ],
   "source": [
    "data = torch.tensor(encoder(text), dtype=torch.long)\n",
    "print(data[:100])"
   ]
  },
  {
   "cell_type": "code",
   "execution_count": 34,
   "id": "d3ff1131-783b-4c83-a843-a03e710e5527",
   "metadata": {},
   "outputs": [
    {
     "name": "stdout",
     "output_type": "stream",
     "text": [
      "tensor([35171, 58822, 98943,  7381])\n",
      "inputs:\n",
      "tensor([[58, 45, 45, 59,  1, 47, 58, 45],\n",
      "        [18, 55, 58, 55, 60, 48, 65,  1],\n",
      "        [62, 45, 58, 65, 60, 48, 49, 54],\n",
      "        [ 0, 45, 41, 58, 59,  1, 59, 60]], device='cuda:0')\n",
      "targets:\n",
      "tensor([[45, 45, 59,  1, 47, 58, 45, 63],\n",
      "        [55, 58, 55, 60, 48, 65,  1, 60],\n",
      "        [45, 58, 65, 60, 48, 49, 54, 47],\n",
      "        [45, 41, 58, 59,  1, 59, 60, 49]], device='cuda:0')\n"
     ]
    }
   ],
   "source": [
    "n = int(0.8*len(data))\n",
    "train_data = data[:n]\n",
    "val_data = data[n:]\n",
    "\n",
    "def get_batch(split):\n",
    "    data = train_data if split == 'train' else val_data\n",
    "    ix = torch.randint(len(data) - block_size, (batch_size,)) \n",
    "    print(ix)\n",
    "    x = torch.stack([data[i:i+block_size] for i in ix]) # This slicing operation extracts a portion of the data defined by the current index and the block size.\n",
    "    y = torch.stack([data[i+1:i+block_size+1] for i in ix])\n",
    "    x, y = x.to(device), y.to(device)\n",
    "    return x, y\n",
    "\n",
    "x, y = get_batch('train')\n",
    "print('inputs:')\n",
    "# print(x.shape)\n",
    "print(x)\n",
    "print('targets:')\n",
    "print(y)"
   ]
  },
  {
   "cell_type": "code",
   "execution_count": 35,
   "id": "2aae435b-e595-4ce2-a449-12031ffea04c",
   "metadata": {},
   "outputs": [],
   "source": [
    "@torch.no_grad()\n",
    "def estimate_loss():\n",
    "    out = {}\n",
    "    model.eval()\n",
    "    for split in ['train', 'val']:\n",
    "        losses = torch.zeros(eval_iters)\n",
    "        for k in range(eval_iters):\n",
    "            X, Y = get_batch(split)\n",
    "            logits, loss = model(X, Y)\n",
    "            losses[k] = loss.item()\n",
    "        out[split] = losses.mean()\n",
    "    model.train()\n",
    "    return out"
   ]
  },
  {
   "cell_type": "code",
   "execution_count": 36,
   "id": "0b4b466e-b072-4745-ba6c-e2673fce79a9",
   "metadata": {},
   "outputs": [],
   "source": [
    "string_to_int = { ch:i for i,ch in enumerate(chars) }\n",
    "int_to_string = { i:ch for i,ch in enumerate(chars) }\n",
    "encode = lambda s: [string_to_int[c] for c in s]\n",
    "decode = lambda l: ''.join([int_to_string[i] for i in l])\n",
    "\n",
    "data = torch.tensor(encode(text), dtype=torch.long)\n",
    "# print(data[:100])"
   ]
  },
  {
   "cell_type": "code",
   "execution_count": 50,
   "id": "dde813fb-9121-4938-8383-44221772a194",
   "metadata": {},
   "outputs": [
    {
     "name": "stdout",
     "output_type": "stream",
     "text": [
      "\n",
      "!Ba,BCfTd&eCJ\n",
      "Bs”(AiMQsPDGFQBD mB”CI.z.’;,uIENOGC—Ky”EgZ—’v—QTzBuI&Z‘JN&HqW0XoPQ\n",
      "Jxhj\n",
      ".z&MyHyKpOFc9,csRgENJaEX0gN—J1n&uz&iRuOLN!PZuCTizN-JtleIhQ,z’Rj’wF’KG)cP”N&gEdArEVo(w)clx&EA(:jn”G(qfZ(.’vg,he!Rb”\n",
      "lOVEuz9WzW&uY”1mxsDkCmCkMEBy1YLr&PQRNP(XsIEIHrP1YZ!iVgyUxLQRg1clBpS!d\n",
      "K“TpMRwoC;p‘ehJoWXZ’vBmpq’L!0o’,BYa\n",
      "w—t’PJOZ!mRfbtqs?Ijq.uLG’K1sj;fp9t‘Q—‘\n",
      "lCm—JUxxt;!RpSzuDKDbIc.R?!z9C TvJAv,,.&&QLGkYkBdQAZG.O\n",
      "—J’Ze’vp??XPPWlN“y;f1YY‘s9tD:‘Bzsn”-.’vCXmXLjEE-;bIS!Ne.D‘WUkq.Tu?zX—a&\n",
      "z”0n”My&!dKk,o.lDxQBsCnE”gN\n"
     ]
    }
   ],
   "source": [
    "class BigramLanguageModel(nn.Module):\n",
    "    def __init__(self, vocab_size):\n",
    "        super().__init__()\n",
    "        #This layer is used to map token indices to token embeddings. \n",
    "        self.token_embedding_table = nn.Embedding(vocab_size, vocab_size) #learnable parameter \n",
    "   \n",
    "    # we type it out because we want to know exactly what is going on\n",
    "    def forward(self, index, targets=None): \n",
    "        logits = self.token_embedding_table(index) #It computes the token embeddings for the input index using the self.token_embedding_table.\n",
    "        # \"logits\" typically refers to the raw, unnormalized scores or values that are produced by the output layer of a neural network before being passed through a softmax activation function.\n",
    "        if targets is None:\n",
    "            loss = None\n",
    "        else:\n",
    "            B, T, C = logits.shape # B - batch / T - time / C channel (vocab size)\n",
    "            logits = logits.view(B*T, C)  # method is used to change the shape of the tensor while preserving its data\n",
    "            targets = targets.view(B*T)\n",
    "            loss = F.cross_entropy(logits, targets) # c\n",
    "        return logits, loss\n",
    "    \n",
    "    def generate(self, index, max_new_tokens):\n",
    "        # index is (B, T) array of indices in the current context\n",
    "        for _ in range(max_new_tokens):\n",
    "            # get the predictions\n",
    "            logits, loss = self.forward(index)\n",
    "            # focus only on the last time step\n",
    "            logits = logits[:, -1, :] # becomes (B, C)\n",
    "            # apply softmax to get probabilities\n",
    "            probs = F.softmax(logits, dim=-1) # (B, C) in this case if shape was 1,1,72 it would take the probs of the 72\n",
    "            # sample from the distribution\n",
    "            index_next = torch.multinomial(probs, num_samples=1) # (B, 1)\n",
    "            # append sampled index to the running sequence\n",
    "            index = torch.cat((index, index_next), dim=1) # (B, T+1)\n",
    "        return index\n",
    "\n",
    "model = BigramLanguageModel(vocab_size)\n",
    "m = model.to(device)\n",
    "context = torch.zeros((1,1), dtype=torch.long, device=device)\n",
    "generated_chars = decode(m.generate(context, max_new_tokens=500)[0].tolist())\n",
    "print(generated_chars)"
   ]
  },
  {
   "cell_type": "code",
   "execution_count": null,
   "id": "16e61f06-02a2-412c-8d6e-e82964e5707e",
   "metadata": {},
   "outputs": [],
   "source": []
  }
 ],
 "metadata": {
  "kernelspec": {
   "display_name": "Python 3 (ipykernel)",
   "language": "python",
   "name": "python3"
  },
  "language_info": {
   "codemirror_mode": {
    "name": "ipython",
    "version": 3
   },
   "file_extension": ".py",
   "mimetype": "text/x-python",
   "name": "python",
   "nbconvert_exporter": "python",
   "pygments_lexer": "ipython3",
   "version": "3.11.5"
  }
 },
 "nbformat": 4,
 "nbformat_minor": 5
}
